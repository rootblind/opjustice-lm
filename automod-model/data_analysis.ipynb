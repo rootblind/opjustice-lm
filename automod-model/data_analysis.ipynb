{
 "cells": [
  {
   "cell_type": "markdown",
   "metadata": {},
   "source": [
    "Importing the necessaries"
   ]
  },
  {
   "cell_type": "code",
   "execution_count": 20,
   "metadata": {},
   "outputs": [],
   "source": [
    "from datasets import load_dataset\n",
    "import numpy as np\n",
    "import seaborn as sns"
   ]
  },
  {
   "cell_type": "markdown",
   "metadata": {},
   "source": [
    "Loading the dataset from disk"
   ]
  },
  {
   "cell_type": "code",
   "execution_count": 3,
   "metadata": {},
   "outputs": [],
   "source": [
    "train_dataset = load_dataset('rootblind/opjustice-dataset', split='train')\n",
    "test_dataset = load_dataset('rootblind/opjustice-dataset', split='test')"
   ]
  },
  {
   "cell_type": "markdown",
   "metadata": {},
   "source": [
    "Inspecting data"
   ]
  },
  {
   "cell_type": "code",
   "execution_count": 4,
   "metadata": {},
   "outputs": [
    {
     "data": {
      "text/html": [
       "<div>\n",
       "<style scoped>\n",
       "    .dataframe tbody tr th:only-of-type {\n",
       "        vertical-align: middle;\n",
       "    }\n",
       "\n",
       "    .dataframe tbody tr th {\n",
       "        vertical-align: top;\n",
       "    }\n",
       "\n",
       "    .dataframe thead th {\n",
       "        text-align: right;\n",
       "    }\n",
       "</style>\n",
       "<table border=\"1\" class=\"dataframe\">\n",
       "  <thead>\n",
       "    <tr style=\"text-align: right;\">\n",
       "      <th></th>\n",
       "      <th>Message</th>\n",
       "      <th>OK</th>\n",
       "      <th>Insult</th>\n",
       "      <th>Violence</th>\n",
       "      <th>Sexual</th>\n",
       "      <th>Hateful</th>\n",
       "      <th>Flirt</th>\n",
       "      <th>Spam</th>\n",
       "      <th>Aggro</th>\n",
       "    </tr>\n",
       "  </thead>\n",
       "  <tbody>\n",
       "    <tr>\n",
       "      <th>0</th>\n",
       "      <td>ii rupem pe bot</td>\n",
       "      <td>1</td>\n",
       "      <td>0</td>\n",
       "      <td>0</td>\n",
       "      <td>0</td>\n",
       "      <td>0</td>\n",
       "      <td>0</td>\n",
       "      <td>0</td>\n",
       "      <td>0</td>\n",
       "    </tr>\n",
       "    <tr>\n",
       "      <th>1</th>\n",
       "      <td>excelent jungler ( 🥵  evelynn &amp; rengar 😳 ) 20/...</td>\n",
       "      <td>1</td>\n",
       "      <td>0</td>\n",
       "      <td>0</td>\n",
       "      <td>0</td>\n",
       "      <td>0</td>\n",
       "      <td>0</td>\n",
       "      <td>0</td>\n",
       "      <td>0</td>\n",
       "    </tr>\n",
       "    <tr>\n",
       "      <th>2</th>\n",
       "      <td>Veigar ฅ^•ﻌ•^ฅ 🌺 , Andu astro feeders :p</td>\n",
       "      <td>1</td>\n",
       "      <td>0</td>\n",
       "      <td>0</td>\n",
       "      <td>0</td>\n",
       "      <td>0</td>\n",
       "      <td>0</td>\n",
       "      <td>0</td>\n",
       "      <td>0</td>\n",
       "    </tr>\n",
       "    <tr>\n",
       "      <th>3</th>\n",
       "      <td>inting</td>\n",
       "      <td>1</td>\n",
       "      <td>0</td>\n",
       "      <td>0</td>\n",
       "      <td>0</td>\n",
       "      <td>0</td>\n",
       "      <td>0</td>\n",
       "      <td>0</td>\n",
       "      <td>0</td>\n",
       "    </tr>\n",
       "    <tr>\n",
       "      <th>4</th>\n",
       "      <td>minte ca nu e smurf si trolleaza de pe contu mic</td>\n",
       "      <td>1</td>\n",
       "      <td>0</td>\n",
       "      <td>0</td>\n",
       "      <td>0</td>\n",
       "      <td>0</td>\n",
       "      <td>0</td>\n",
       "      <td>0</td>\n",
       "      <td>0</td>\n",
       "    </tr>\n",
       "  </tbody>\n",
       "</table>\n",
       "</div>"
      ],
      "text/plain": [
       "                                             Message  OK  Insult  Violence  \\\n",
       "0                                    ii rupem pe bot   1       0         0   \n",
       "1  excelent jungler ( 🥵  evelynn & rengar 😳 ) 20/...   1       0         0   \n",
       "2           Veigar ฅ^•ﻌ•^ฅ 🌺 , Andu astro feeders :p   1       0         0   \n",
       "3                                             inting   1       0         0   \n",
       "4   minte ca nu e smurf si trolleaza de pe contu mic   1       0         0   \n",
       "\n",
       "   Sexual  Hateful  Flirt  Spam  Aggro  \n",
       "0       0        0      0     0      0  \n",
       "1       0        0      0     0      0  \n",
       "2       0        0      0     0      0  \n",
       "3       0        0      0     0      0  \n",
       "4       0        0      0     0      0  "
      ]
     },
     "execution_count": 4,
     "metadata": {},
     "output_type": "execute_result"
    }
   ],
   "source": [
    "train_dataset.to_pandas().head()"
   ]
  },
  {
   "cell_type": "code",
   "execution_count": 5,
   "metadata": {},
   "outputs": [
    {
     "data": {
      "text/html": [
       "<div>\n",
       "<style scoped>\n",
       "    .dataframe tbody tr th:only-of-type {\n",
       "        vertical-align: middle;\n",
       "    }\n",
       "\n",
       "    .dataframe tbody tr th {\n",
       "        vertical-align: top;\n",
       "    }\n",
       "\n",
       "    .dataframe thead th {\n",
       "        text-align: right;\n",
       "    }\n",
       "</style>\n",
       "<table border=\"1\" class=\"dataframe\">\n",
       "  <thead>\n",
       "    <tr style=\"text-align: right;\">\n",
       "      <th></th>\n",
       "      <th>Message</th>\n",
       "      <th>OK</th>\n",
       "      <th>Insult</th>\n",
       "      <th>Violence</th>\n",
       "      <th>Sexual</th>\n",
       "      <th>Hateful</th>\n",
       "      <th>Flirt</th>\n",
       "      <th>Spam</th>\n",
       "      <th>Aggro</th>\n",
       "    </tr>\n",
       "  </thead>\n",
       "  <tbody>\n",
       "    <tr>\n",
       "      <th>0</th>\n",
       "      <td>handicapat</td>\n",
       "      <td>0</td>\n",
       "      <td>1</td>\n",
       "      <td>0</td>\n",
       "      <td>0</td>\n",
       "      <td>0</td>\n",
       "      <td>0</td>\n",
       "      <td>0</td>\n",
       "      <td>0</td>\n",
       "    </tr>\n",
       "    <tr>\n",
       "      <th>1</th>\n",
       "      <td>retardat</td>\n",
       "      <td>0</td>\n",
       "      <td>1</td>\n",
       "      <td>0</td>\n",
       "      <td>0</td>\n",
       "      <td>0</td>\n",
       "      <td>0</td>\n",
       "      <td>0</td>\n",
       "      <td>0</td>\n",
       "    </tr>\n",
       "    <tr>\n",
       "      <th>2</th>\n",
       "      <td>cretin</td>\n",
       "      <td>0</td>\n",
       "      <td>1</td>\n",
       "      <td>0</td>\n",
       "      <td>0</td>\n",
       "      <td>0</td>\n",
       "      <td>0</td>\n",
       "      <td>0</td>\n",
       "      <td>0</td>\n",
       "    </tr>\n",
       "    <tr>\n",
       "      <th>3</th>\n",
       "      <td>terminatule</td>\n",
       "      <td>0</td>\n",
       "      <td>1</td>\n",
       "      <td>0</td>\n",
       "      <td>0</td>\n",
       "      <td>0</td>\n",
       "      <td>0</td>\n",
       "      <td>0</td>\n",
       "      <td>1</td>\n",
       "    </tr>\n",
       "    <tr>\n",
       "      <th>4</th>\n",
       "      <td>te bat</td>\n",
       "      <td>0</td>\n",
       "      <td>0</td>\n",
       "      <td>1</td>\n",
       "      <td>0</td>\n",
       "      <td>0</td>\n",
       "      <td>0</td>\n",
       "      <td>0</td>\n",
       "      <td>1</td>\n",
       "    </tr>\n",
       "  </tbody>\n",
       "</table>\n",
       "</div>"
      ],
      "text/plain": [
       "       Message  OK  Insult  Violence  Sexual  Hateful  Flirt  Spam  Aggro\n",
       "0   handicapat   0       1         0       0        0      0     0      0\n",
       "1     retardat   0       1         0       0        0      0     0      0\n",
       "2       cretin   0       1         0       0        0      0     0      0\n",
       "3  terminatule   0       1         0       0        0      0     0      1\n",
       "4       te bat   0       0         1       0        0      0     0      1"
      ]
     },
     "execution_count": 5,
     "metadata": {},
     "output_type": "execute_result"
    }
   ],
   "source": [
    "test_dataset.to_pandas().head()"
   ]
  },
  {
   "cell_type": "markdown",
   "metadata": {},
   "source": [
    "Converting the dataset to pandas for easier analysis"
   ]
  },
  {
   "cell_type": "code",
   "execution_count": 6,
   "metadata": {},
   "outputs": [
    {
     "data": {
      "text/html": [
       "<div>\n",
       "<style scoped>\n",
       "    .dataframe tbody tr th:only-of-type {\n",
       "        vertical-align: middle;\n",
       "    }\n",
       "\n",
       "    .dataframe tbody tr th {\n",
       "        vertical-align: top;\n",
       "    }\n",
       "\n",
       "    .dataframe thead th {\n",
       "        text-align: right;\n",
       "    }\n",
       "</style>\n",
       "<table border=\"1\" class=\"dataframe\">\n",
       "  <thead>\n",
       "    <tr style=\"text-align: right;\">\n",
       "      <th></th>\n",
       "      <th>OK</th>\n",
       "      <th>Insult</th>\n",
       "      <th>Violence</th>\n",
       "      <th>Sexual</th>\n",
       "      <th>Hateful</th>\n",
       "      <th>Flirt</th>\n",
       "      <th>Spam</th>\n",
       "      <th>Aggro</th>\n",
       "    </tr>\n",
       "  </thead>\n",
       "  <tbody>\n",
       "    <tr>\n",
       "      <th>count</th>\n",
       "      <td>6904.000000</td>\n",
       "      <td>6904.000000</td>\n",
       "      <td>6904.000000</td>\n",
       "      <td>6904.000000</td>\n",
       "      <td>6904.000000</td>\n",
       "      <td>6904.000000</td>\n",
       "      <td>6904.000000</td>\n",
       "      <td>6904.000000</td>\n",
       "    </tr>\n",
       "    <tr>\n",
       "      <th>mean</th>\n",
       "      <td>0.886008</td>\n",
       "      <td>0.031431</td>\n",
       "      <td>0.007387</td>\n",
       "      <td>0.040122</td>\n",
       "      <td>0.011298</td>\n",
       "      <td>0.006373</td>\n",
       "      <td>0.001014</td>\n",
       "      <td>0.054461</td>\n",
       "    </tr>\n",
       "    <tr>\n",
       "      <th>std</th>\n",
       "      <td>0.317824</td>\n",
       "      <td>0.174492</td>\n",
       "      <td>0.085636</td>\n",
       "      <td>0.196259</td>\n",
       "      <td>0.105697</td>\n",
       "      <td>0.079583</td>\n",
       "      <td>0.031828</td>\n",
       "      <td>0.248863</td>\n",
       "    </tr>\n",
       "    <tr>\n",
       "      <th>min</th>\n",
       "      <td>0.000000</td>\n",
       "      <td>0.000000</td>\n",
       "      <td>0.000000</td>\n",
       "      <td>0.000000</td>\n",
       "      <td>0.000000</td>\n",
       "      <td>0.000000</td>\n",
       "      <td>0.000000</td>\n",
       "      <td>0.000000</td>\n",
       "    </tr>\n",
       "    <tr>\n",
       "      <th>25%</th>\n",
       "      <td>1.000000</td>\n",
       "      <td>0.000000</td>\n",
       "      <td>0.000000</td>\n",
       "      <td>0.000000</td>\n",
       "      <td>0.000000</td>\n",
       "      <td>0.000000</td>\n",
       "      <td>0.000000</td>\n",
       "      <td>0.000000</td>\n",
       "    </tr>\n",
       "    <tr>\n",
       "      <th>50%</th>\n",
       "      <td>1.000000</td>\n",
       "      <td>0.000000</td>\n",
       "      <td>0.000000</td>\n",
       "      <td>0.000000</td>\n",
       "      <td>0.000000</td>\n",
       "      <td>0.000000</td>\n",
       "      <td>0.000000</td>\n",
       "      <td>0.000000</td>\n",
       "    </tr>\n",
       "    <tr>\n",
       "      <th>75%</th>\n",
       "      <td>1.000000</td>\n",
       "      <td>0.000000</td>\n",
       "      <td>0.000000</td>\n",
       "      <td>0.000000</td>\n",
       "      <td>0.000000</td>\n",
       "      <td>0.000000</td>\n",
       "      <td>0.000000</td>\n",
       "      <td>0.000000</td>\n",
       "    </tr>\n",
       "    <tr>\n",
       "      <th>max</th>\n",
       "      <td>1.000000</td>\n",
       "      <td>1.000000</td>\n",
       "      <td>1.000000</td>\n",
       "      <td>1.000000</td>\n",
       "      <td>1.000000</td>\n",
       "      <td>1.000000</td>\n",
       "      <td>1.000000</td>\n",
       "      <td>9.000000</td>\n",
       "    </tr>\n",
       "  </tbody>\n",
       "</table>\n",
       "</div>"
      ],
      "text/plain": [
       "                OK       Insult     Violence       Sexual      Hateful  \\\n",
       "count  6904.000000  6904.000000  6904.000000  6904.000000  6904.000000   \n",
       "mean      0.886008     0.031431     0.007387     0.040122     0.011298   \n",
       "std       0.317824     0.174492     0.085636     0.196259     0.105697   \n",
       "min       0.000000     0.000000     0.000000     0.000000     0.000000   \n",
       "25%       1.000000     0.000000     0.000000     0.000000     0.000000   \n",
       "50%       1.000000     0.000000     0.000000     0.000000     0.000000   \n",
       "75%       1.000000     0.000000     0.000000     0.000000     0.000000   \n",
       "max       1.000000     1.000000     1.000000     1.000000     1.000000   \n",
       "\n",
       "             Flirt         Spam        Aggro  \n",
       "count  6904.000000  6904.000000  6904.000000  \n",
       "mean      0.006373     0.001014     0.054461  \n",
       "std       0.079583     0.031828     0.248863  \n",
       "min       0.000000     0.000000     0.000000  \n",
       "25%       0.000000     0.000000     0.000000  \n",
       "50%       0.000000     0.000000     0.000000  \n",
       "75%       0.000000     0.000000     0.000000  \n",
       "max       1.000000     1.000000     9.000000  "
      ]
     },
     "execution_count": 6,
     "metadata": {},
     "output_type": "execute_result"
    }
   ],
   "source": [
    "import pandas as pd\n",
    "\n",
    "df_train = train_dataset.to_pandas()\n",
    "df_test = test_dataset.to_pandas()\n",
    "\n",
    "df_train.describe()"
   ]
  },
  {
   "cell_type": "code",
   "execution_count": 7,
   "metadata": {},
   "outputs": [
    {
     "data": {
      "text/html": [
       "<div>\n",
       "<style scoped>\n",
       "    .dataframe tbody tr th:only-of-type {\n",
       "        vertical-align: middle;\n",
       "    }\n",
       "\n",
       "    .dataframe tbody tr th {\n",
       "        vertical-align: top;\n",
       "    }\n",
       "\n",
       "    .dataframe thead th {\n",
       "        text-align: right;\n",
       "    }\n",
       "</style>\n",
       "<table border=\"1\" class=\"dataframe\">\n",
       "  <thead>\n",
       "    <tr style=\"text-align: right;\">\n",
       "      <th></th>\n",
       "      <th>OK</th>\n",
       "      <th>Insult</th>\n",
       "      <th>Violence</th>\n",
       "      <th>Sexual</th>\n",
       "      <th>Hateful</th>\n",
       "      <th>Flirt</th>\n",
       "      <th>Spam</th>\n",
       "      <th>Aggro</th>\n",
       "    </tr>\n",
       "  </thead>\n",
       "  <tbody>\n",
       "    <tr>\n",
       "      <th>count</th>\n",
       "      <td>664.000000</td>\n",
       "      <td>664.000000</td>\n",
       "      <td>664.000000</td>\n",
       "      <td>664.000000</td>\n",
       "      <td>664.000000</td>\n",
       "      <td>664.000000</td>\n",
       "      <td>664.000000</td>\n",
       "      <td>664.000000</td>\n",
       "    </tr>\n",
       "    <tr>\n",
       "      <th>mean</th>\n",
       "      <td>0.644578</td>\n",
       "      <td>0.121988</td>\n",
       "      <td>0.117470</td>\n",
       "      <td>0.106928</td>\n",
       "      <td>0.082831</td>\n",
       "      <td>0.018072</td>\n",
       "      <td>0.016566</td>\n",
       "      <td>0.194277</td>\n",
       "    </tr>\n",
       "    <tr>\n",
       "      <th>std</th>\n",
       "      <td>0.479002</td>\n",
       "      <td>0.327519</td>\n",
       "      <td>0.322222</td>\n",
       "      <td>0.309254</td>\n",
       "      <td>0.275835</td>\n",
       "      <td>0.133313</td>\n",
       "      <td>0.127736</td>\n",
       "      <td>0.395941</td>\n",
       "    </tr>\n",
       "    <tr>\n",
       "      <th>min</th>\n",
       "      <td>0.000000</td>\n",
       "      <td>0.000000</td>\n",
       "      <td>0.000000</td>\n",
       "      <td>0.000000</td>\n",
       "      <td>0.000000</td>\n",
       "      <td>0.000000</td>\n",
       "      <td>0.000000</td>\n",
       "      <td>0.000000</td>\n",
       "    </tr>\n",
       "    <tr>\n",
       "      <th>25%</th>\n",
       "      <td>0.000000</td>\n",
       "      <td>0.000000</td>\n",
       "      <td>0.000000</td>\n",
       "      <td>0.000000</td>\n",
       "      <td>0.000000</td>\n",
       "      <td>0.000000</td>\n",
       "      <td>0.000000</td>\n",
       "      <td>0.000000</td>\n",
       "    </tr>\n",
       "    <tr>\n",
       "      <th>50%</th>\n",
       "      <td>1.000000</td>\n",
       "      <td>0.000000</td>\n",
       "      <td>0.000000</td>\n",
       "      <td>0.000000</td>\n",
       "      <td>0.000000</td>\n",
       "      <td>0.000000</td>\n",
       "      <td>0.000000</td>\n",
       "      <td>0.000000</td>\n",
       "    </tr>\n",
       "    <tr>\n",
       "      <th>75%</th>\n",
       "      <td>1.000000</td>\n",
       "      <td>0.000000</td>\n",
       "      <td>0.000000</td>\n",
       "      <td>0.000000</td>\n",
       "      <td>0.000000</td>\n",
       "      <td>0.000000</td>\n",
       "      <td>0.000000</td>\n",
       "      <td>0.000000</td>\n",
       "    </tr>\n",
       "    <tr>\n",
       "      <th>max</th>\n",
       "      <td>1.000000</td>\n",
       "      <td>1.000000</td>\n",
       "      <td>1.000000</td>\n",
       "      <td>1.000000</td>\n",
       "      <td>1.000000</td>\n",
       "      <td>1.000000</td>\n",
       "      <td>1.000000</td>\n",
       "      <td>1.000000</td>\n",
       "    </tr>\n",
       "  </tbody>\n",
       "</table>\n",
       "</div>"
      ],
      "text/plain": [
       "               OK      Insult    Violence      Sexual     Hateful       Flirt  \\\n",
       "count  664.000000  664.000000  664.000000  664.000000  664.000000  664.000000   \n",
       "mean     0.644578    0.121988    0.117470    0.106928    0.082831    0.018072   \n",
       "std      0.479002    0.327519    0.322222    0.309254    0.275835    0.133313   \n",
       "min      0.000000    0.000000    0.000000    0.000000    0.000000    0.000000   \n",
       "25%      0.000000    0.000000    0.000000    0.000000    0.000000    0.000000   \n",
       "50%      1.000000    0.000000    0.000000    0.000000    0.000000    0.000000   \n",
       "75%      1.000000    0.000000    0.000000    0.000000    0.000000    0.000000   \n",
       "max      1.000000    1.000000    1.000000    1.000000    1.000000    1.000000   \n",
       "\n",
       "             Spam       Aggro  \n",
       "count  664.000000  664.000000  \n",
       "mean     0.016566    0.194277  \n",
       "std      0.127736    0.395941  \n",
       "min      0.000000    0.000000  \n",
       "25%      0.000000    0.000000  \n",
       "50%      0.000000    0.000000  \n",
       "75%      0.000000    0.000000  \n",
       "max      1.000000    1.000000  "
      ]
     },
     "execution_count": 7,
     "metadata": {},
     "output_type": "execute_result"
    }
   ],
   "source": [
    "df_test.describe()"
   ]
  },
  {
   "cell_type": "code",
   "execution_count": 8,
   "metadata": {},
   "outputs": [
    {
     "name": "stdout",
     "output_type": "stream",
     "text": [
      "<class 'pandas.core.frame.DataFrame'>\n",
      "RangeIndex: 6904 entries, 0 to 6903\n",
      "Data columns (total 9 columns):\n",
      " #   Column    Non-Null Count  Dtype \n",
      "---  ------    --------------  ----- \n",
      " 0   Message   6904 non-null   object\n",
      " 1   OK        6904 non-null   int64 \n",
      " 2   Insult    6904 non-null   int64 \n",
      " 3   Violence  6904 non-null   int64 \n",
      " 4   Sexual    6904 non-null   int64 \n",
      " 5   Hateful   6904 non-null   int64 \n",
      " 6   Flirt     6904 non-null   int64 \n",
      " 7   Spam      6904 non-null   int64 \n",
      " 8   Aggro     6904 non-null   int64 \n",
      "dtypes: int64(8), object(1)\n",
      "memory usage: 485.6+ KB\n"
     ]
    }
   ],
   "source": [
    "df_train.info()"
   ]
  },
  {
   "cell_type": "code",
   "execution_count": 14,
   "metadata": {},
   "outputs": [
    {
     "name": "stdout",
     "output_type": "stream",
     "text": [
      "<class 'pandas.core.frame.DataFrame'>\n",
      "RangeIndex: 664 entries, 0 to 663\n",
      "Data columns (total 9 columns):\n",
      " #   Column    Non-Null Count  Dtype \n",
      "---  ------    --------------  ----- \n",
      " 0   Message   664 non-null    object\n",
      " 1   OK        664 non-null    int64 \n",
      " 2   Insult    664 non-null    int64 \n",
      " 3   Violence  664 non-null    int64 \n",
      " 4   Sexual    664 non-null    int64 \n",
      " 5   Hateful   664 non-null    int64 \n",
      " 6   Flirt     664 non-null    int64 \n",
      " 7   Spam      664 non-null    int64 \n",
      " 8   Aggro     664 non-null    int64 \n",
      "dtypes: int64(8), object(1)\n",
      "memory usage: 46.8+ KB\n"
     ]
    }
   ],
   "source": [
    "df_test.info()"
   ]
  },
  {
   "cell_type": "code",
   "execution_count": 9,
   "metadata": {},
   "outputs": [
    {
     "data": {
      "text/plain": [
       "Message     0\n",
       "OK          0\n",
       "Insult      0\n",
       "Violence    0\n",
       "Sexual      0\n",
       "Hateful     0\n",
       "Flirt       0\n",
       "Spam        0\n",
       "Aggro       0\n",
       "dtype: int64"
      ]
     },
     "execution_count": 9,
     "metadata": {},
     "output_type": "execute_result"
    }
   ],
   "source": [
    "df_train.isnull().sum()"
   ]
  },
  {
   "cell_type": "code",
   "execution_count": 15,
   "metadata": {},
   "outputs": [
    {
     "name": "stdout",
     "output_type": "stream",
     "text": [
      "Train shape:  (6904, 9)\n",
      "Test shape:  (664, 9)\n"
     ]
    }
   ],
   "source": [
    "print('Train shape: ', str(df_train.shape))\n",
    "print('Test shape: ', str(df_test.shape))"
   ]
  },
  {
   "cell_type": "code",
   "execution_count": 16,
   "metadata": {},
   "outputs": [
    {
     "name": "stdout",
     "output_type": "stream",
     "text": [
      "Number of duplicated instances in train: 119\n",
      "Number of duplicated instances in test: 27\n"
     ]
    }
   ],
   "source": [
    "print(f'Number of duplicated instances in train: {df_train.duplicated().sum()}')\n",
    "print(f'Number of duplicated instances in test: {df_test.duplicated().sum()}')"
   ]
  },
  {
   "cell_type": "code",
   "execution_count": 19,
   "metadata": {},
   "outputs": [
    {
     "name": "stdout",
     "output_type": "stream",
     "text": [
      "                OK    Insult  Violence    Sexual   Hateful     Flirt  \\\n",
      "OK        1.000000 -0.502222 -0.240506 -0.569985 -0.298020 -0.223278   \n",
      "Insult   -0.502222  1.000000  0.013544  0.073155  0.232091 -0.003995   \n",
      "Violence -0.240506  0.013544  1.000000  0.034079  0.038792  0.014347   \n",
      "Sexual   -0.569985  0.073155  0.034079  1.000000  0.006079  0.011451   \n",
      "Hateful  -0.298020  0.232091  0.038792  0.006079  1.000000  0.008661   \n",
      "Flirt    -0.223278 -0.003995  0.014347  0.011451  0.008661  1.000000   \n",
      "Spam     -0.088818  0.020345  0.050401  0.039869  0.082718  0.054640   \n",
      "Aggro    -0.593671  0.230791  0.076284  0.245924  0.081244  0.004416   \n",
      "\n",
      "              Spam     Aggro  \n",
      "OK       -0.088818 -0.593671  \n",
      "Insult    0.020345  0.230791  \n",
      "Violence  0.050401  0.076284  \n",
      "Sexual    0.039869  0.245924  \n",
      "Hateful   0.082718  0.081244  \n",
      "Flirt     0.054640  0.004416  \n",
      "Spam      1.000000  0.029606  \n",
      "Aggro     0.029606  1.000000  \n"
     ]
    }
   ],
   "source": [
    "numeric_df = df_train.select_dtypes(include=[np.number])\n",
    "\n",
    "# Compute the correlation matrix\n",
    "correlation_matrix = numeric_df.corr()\n",
    "\n",
    "# Display the correlation matrix\n",
    "print(correlation_matrix)"
   ]
  },
  {
   "cell_type": "markdown",
   "metadata": {},
   "source": [
    "Data visualization"
   ]
  },
  {
   "cell_type": "code",
   "execution_count": 10,
   "metadata": {},
   "outputs": [],
   "source": [
    "import matplotlib.pyplot as plt # importing the neccessary library"
   ]
  },
  {
   "cell_type": "code",
   "execution_count": 11,
   "metadata": {},
   "outputs": [
    {
     "data": {
      "image/png": "[encoded data removed]",
      "text/plain": [
       "<Figure size 640x480 with 1 Axes>"
      ]
     },
     "metadata": {},
     "output_type": "display_data"
    },
    {
     "name": "stdout",
     "output_type": "stream",
     "text": [
      "OK          6117\n",
      "Insult       217\n",
      "Violence      51\n",
      "Sexual       277\n",
      "Hateful       78\n",
      "Flirt         44\n",
      "Spam           7\n",
      "Aggro        376\n",
      "dtype: int64\n"
     ]
    }
   ],
   "source": [
    "columns = df_train.drop(columns='Message')\n",
    "columns_sums = columns.sum(axis=0)\n",
    "columns_sums.plot(kind='bar')\n",
    "\n",
    "plt.title('Labels distribution in train')\n",
    "plt.ylabel('Sums')\n",
    "plt.xlabel('Labels')\n",
    "plt.show()\n",
    "print(columns_sums)"
   ]
  },
  {
   "cell_type": "code",
   "execution_count": 12,
   "metadata": {},
   "outputs": [
    {
     "data": {
      "image/png": "[encoded data removed]",
      "text/plain": [
       "<Figure size 640x480 with 1 Axes>"
      ]
     },
     "metadata": {},
     "output_type": "display_data"
    },
    {
     "name": "stdout",
     "output_type": "stream",
     "text": [
      "OK          428\n",
      "Insult       81\n",
      "Violence     78\n",
      "Sexual       71\n",
      "Hateful      55\n",
      "Flirt        12\n",
      "Spam         11\n",
      "Aggro       129\n",
      "dtype: int64\n"
     ]
    }
   ],
   "source": [
    "columns = df_test.drop(columns='Message')\n",
    "columns_sums = columns.sum(axis=0)\n",
    "columns_sums.plot(kind='bar')\n",
    "\n",
    "plt.title('Labels distribution in test')\n",
    "plt.ylabel('Sums')\n",
    "plt.xlabel('Labels')\n",
    "plt.show()\n",
    "print(columns_sums)"
   ]
  },
  {
   "cell_type": "code",
   "execution_count": 21,
   "metadata": {},
   "outputs": [
    {
     "data": {
      "text/plain": [
       "<Axes: >"
      ]
     },
     "execution_count": 21,
     "metadata": {},
     "output_type": "execute_result"
    },
    {
     "data": {
      "image/png": "[encoded data removed]",
      "text/plain": [
       "<Figure size 500x500 with 1 Axes>"
      ]
     },
     "metadata": {},
     "output_type": "display_data"
    }
   ],
   "source": [
    "plt.figure(figsize=(5,5))\n",
    "sns.heatmap(correlation_matrix, annot=True, fmt='.1f', cbar=None,cmap='viridis')"
   ]
  },
  {
   "cell_type": "markdown",
   "metadata": {},
   "source": [
    "Comparing the train and the test datasets sizes"
   ]
  },
  {
   "cell_type": "code",
   "execution_count": 13,
   "metadata": {},
   "outputs": [
    {
     "data": {
      "image/png": "[encoded data removed]",
      "text/plain": [
       "<Figure size 640x480 with 1 Axes>"
      ]
     },
     "metadata": {},
     "output_type": "display_data"
    },
    {
     "name": "stdout",
     "output_type": "stream",
     "text": [
      "[6904, 664]\n"
     ]
    }
   ],
   "source": [
    "train_test = ['Train', 'Test']\n",
    "train_test_size = [df_train['Message'].value_counts().sum(), df_test['Message'].value_counts().sum()]\n",
    "plt.pie(train_test_size, labels=train_test, autopct='%1.1f%%', startangle=90)\n",
    "plt.axis('equal')\n",
    "plt.title('Messages distribution among the datasets')\n",
    "plt.show()\n",
    "print(train_test_size)"
   ]
  }
 ],
 "metadata": {
  "kernelspec": {
   "display_name": "Python 3",
   "language": "python",
   "name": "python3"
  },
  "language_info": {
   "codemirror_mode": {
    "name": "ipython",
    "version": 3
   },
   "file_extension": ".py",
   "mimetype": "text/x-python",
   "name": "python",
   "nbconvert_exporter": "python",
   "pygments_lexer": "ipython3",
   "version": "3.12.4"
  }
 },
 "nbformat": 4,
 "nbformat_minor": 2
}
